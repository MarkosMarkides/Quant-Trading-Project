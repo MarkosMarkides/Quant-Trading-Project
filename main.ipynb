{
 "cells": [
  {
   "cell_type": "markdown",
   "metadata": {},
   "source": [
    "# Downloading Historical OHLC mid, bid and ask Data for EUR/USD"
   ]
  },
  {
   "cell_type": "code",
   "execution_count": 1,
   "metadata": {},
   "outputs": [
    {
     "name": "stdout",
     "output_type": "stream",
     "text": [
      "EUR_USD M5\n",
      "EUR_USD M5 2023-01-25 18:46:38.614685+00:00 2023-02-05 04:46:38.614685+00:00 --> 2055 candles loaded\n",
      "EUR_USD M5 2023-02-05 04:46:38.614685+00:00 2023-02-15 14:46:38.614685+00:00 --> 2218 candles loaded\n",
      "EUR_USD M5 2023-02-15 14:46:38.614685+00:00 2023-02-26 00:46:38.614685+00:00 --> 2103 candles loaded\n",
      "EUR_USD M5 2023-02-26 00:46:38.614685+00:00 2023-03-08 10:46:38.614685+00:00 --> 2170 candles loaded\n",
      "EUR_USD M5 2023-03-08 10:46:38.614685+00:00 2023-03-18 20:46:38.614685+00:00 --> 2151 candles loaded\n",
      "EUR_USD M5 2023-03-18 20:46:38.614685+00:00 2023-03-29 06:46:38.614685+00:00 --> 2134 candles loaded\n",
      "EUR_USD M5 2023-03-29 06:46:38.614685+00:00 2023-04-08 16:46:38.614685+00:00 --> 2186 candles loaded\n",
      "EUR_USD M5 2023-04-08 16:46:38.614685+00:00 2023-04-19 02:46:38.614685+00:00 --> 2085 candles loaded\n",
      "EUR_USD M5 2023-04-19 02:46:38.614685+00:00 2023-04-29 12:46:38.614685+00:00 --> 2235 candles loaded\n",
      "EUR_USD M5 2023-04-29 12:46:38.614685+00:00 2023-05-09 22:46:38.614685+00:00 --> 2038 candles loaded\n",
      "EUR_USD M5 2023-05-09 22:46:38.614685+00:00 2023-05-20 08:46:38.614685+00:00 --> 2282 candles loaded\n",
      "EUR_USD M5 2023-05-20 08:46:38.614685+00:00 2023-05-30 18:46:38.614685+00:00 --> 1989 candles loaded\n",
      "EUR_USD M5 2023-05-30 18:46:38.614685+00:00 2023-06-10 04:46:38.614685+00:00 --> 2331 candles loaded\n",
      "EUR_USD M5 2023-06-10 04:46:38.614685+00:00 2023-06-20 14:46:38.614685+00:00 --> 1942 candles loaded\n",
      "EUR_USD M5 2023-06-20 14:46:38.614685+00:00 2023-07-01 00:46:38.614685+00:00 --> 2379 candles loaded\n",
      "EUR_USD M5 2023-07-01 00:46:38.614685+00:00 2023-07-11 10:46:38.614685+00:00 --> 1893 candles loaded\n",
      "EUR_USD M5 2023-07-11 10:46:38.614685+00:00 2023-07-21 20:46:38.614685+00:00 --> 2424 candles loaded\n",
      "EUR_USD M5 2023-07-21 20:46:38.614685+00:00 2023-08-01 06:46:38.614685+00:00 --> 1849 candles loaded\n",
      "EUR_USD M5 2023-08-01 06:46:38.614685+00:00 2023-08-11 16:46:38.614685+00:00 --> 2425 candles loaded\n",
      "EUR_USD M5 2023-08-11 16:46:38.614685+00:00 2023-08-22 02:46:38.614685+00:00 --> 1849 candles loaded\n",
      "EUR_USD M5 2023-08-22 02:46:38.614685+00:00 2023-09-01 12:46:38.614685+00:00 --> 2423 candles loaded\n",
      "EUR_USD M5 2023-09-01 12:46:38.614685+00:00 2023-09-11 22:46:38.614685+00:00 --> 1848 candles loaded\n",
      "EUR_USD M5 2023-09-11 22:46:38.614685+00:00 2023-09-22 08:46:38.614685+00:00 --> 2425 candles loaded\n",
      "EUR_USD M5 2023-09-22 08:46:38.614685+00:00 2023-10-02 18:46:38.614685+00:00 --> 1849 candles loaded\n",
      "EUR_USD M5 2023-10-02 18:46:38.614685+00:00 2023-10-13 04:46:38.614685+00:00 --> 2425 candles loaded\n",
      "EUR_USD M5 2023-10-13 04:46:38.614685+00:00 2023-10-23 14:46:38.614685+00:00 --> 1848 candles loaded\n",
      "EUR_USD M5 2023-10-23 14:46:38.614685+00:00 2023-11-03 00:46:38.614685+00:00 --> 2425 candles loaded\n",
      "EUR_USD M5 2023-11-03 00:46:38.614685+00:00 2023-11-13 10:46:38.614685+00:00 --> 1837 candles loaded\n",
      "EUR_USD M5 2023-11-13 10:46:38.614685+00:00 2023-11-23 20:46:38.614685+00:00 --> 2425 candles loaded\n",
      "EUR_USD M5 2023-11-23 20:46:38.614685+00:00 2023-12-04 06:46:38.614685+00:00 --> 1849 candles loaded\n",
      "EUR_USD M5 2023-12-04 06:46:38.614685+00:00 2023-12-14 16:46:38.614685+00:00 --> 2425 candles loaded\n",
      "EUR_USD M5 2023-12-14 16:46:38.614685+00:00 2023-12-25 02:46:38.614685+00:00 --> 1791 candles loaded\n",
      "EUR_USD M5 2023-12-25 02:46:38.614685+00:00 2024-01-04 12:46:38.614685+00:00 --> 1906 candles loaded\n",
      "EUR_USD M5 2024-01-04 12:46:38.614685+00:00 2024-01-14 22:46:38.614685+00:00 --> 1848 candles loaded\n",
      "EUR_USD M5 2024-01-14 22:46:38.614685+00:00 2024-01-25 08:46:38.614685+00:00 --> 2425 candles loaded\n",
      "EUR_USD M5 2024-01-25 08:46:38.614685+00:00 2024-02-04 18:46:38.614685+00:00 --> 1887 candles loaded\n",
      "EUR_USD M5 2024-02-04 18:46:38.614685+00:00 2024-02-15 04:46:38.614685+00:00 --> 2385 candles loaded\n",
      "EUR_USD M5 2024-02-15 04:46:38.614685+00:00 2024-02-25 14:46:38.614685+00:00 --> 1935 candles loaded\n",
      "EUR_USD M5 2024-02-25 14:46:38.614685+00:00 2024-03-07 00:46:38.614685+00:00 --> 2338 candles loaded\n",
      "EUR_USD M5 2024-03-07 00:46:38.614685+00:00 2024-03-17 10:46:38.614685+00:00 --> 1983 candles loaded\n",
      "EUR_USD M5 2024-03-17 10:46:38.614685+00:00 2024-03-27 20:46:38.614685+00:00 --> 2302 candles loaded\n",
      "EUR_USD M5 2024-03-27 20:46:38.614685+00:00 2024-04-07 06:46:38.614685+00:00 --> 2018 candles loaded\n",
      "EUR_USD M5 2024-04-07 06:46:38.614685+00:00 2024-04-17 16:46:38.614685+00:00 --> 2254 candles loaded\n",
      "EUR_USD M5 2024-04-17 16:46:38.614685+00:00 2024-04-28 02:46:38.614685+00:00 --> 2067 candles loaded\n",
      "EUR_USD M5 2024-04-28 02:46:38.614685+00:00 2024-05-08 12:46:38.614685+00:00 --> 2206 candles loaded\n",
      "EUR_USD M5 2024-05-08 12:46:38.614685+00:00 2024-05-18 22:46:38.614685+00:00 --> 2114 candles loaded\n",
      "EUR_USD M5 2024-05-18 22:46:38.614685+00:00 2024-05-29 08:46:38.614685+00:00 --> 2123 candles loaded\n",
      "EUR_USD M5 2024-05-29 08:46:38.614685+00:00 2024-06-08 18:46:38.614685+00:00 --> 2163 candles loaded\n",
      "EUR_USD M5 2024-06-08 18:46:38.614685+00:00 2024-06-19 04:46:38.614685+00:00 --> 2108 candles loaded\n",
      "EUR_USD M5 2024-06-19 04:46:38.614685+00:00 2024-06-29 14:46:38.614685+00:00 --> 2211 candles loaded\n",
      "EUR_USD M5 2024-06-29 14:46:38.614685+00:00 2024-07-10 00:46:38.614685+00:00 --> 2062 candles loaded\n",
      "EUR_USD M5 2024-07-10 00:46:38.614685+00:00 2024-07-20 10:46:38.614685+00:00 --> 2259 candles loaded\n",
      "EUR_USD M5 2024-07-20 10:46:38.614685+00:00 2024-07-30 20:46:38.614685+00:00 --> 2013 candles loaded\n",
      "EUR_USD M5 2024-07-30 20:46:38.614685+00:00 2024-08-10 06:46:38.614685+00:00 --> 2307 candles loaded\n",
      "EUR_USD M5 2024-08-10 06:46:38.614685+00:00 2024-08-20 16:46:38.614685+00:00 --> 1966 candles loaded\n",
      "EUR_USD M5 2024-08-20 16:46:38.614685+00:00 2024-08-31 02:46:38.614685+00:00 --> 2354 candles loaded\n",
      "EUR_USD M5 2024-08-31 02:46:38.614685+00:00 2024-09-10 12:46:38.614685+00:00 --> 1918 candles loaded\n",
      "EUR_USD M5 2024-09-10 12:46:38.614685+00:00 2024-09-20 22:46:38.614685+00:00 --> 2403 candles loaded\n",
      "EUR_USD M5 2024-09-20 22:46:38.614685+00:00 2024-10-01 08:46:38.614685+00:00 --> 1870 candles loaded\n",
      "EUR_USD M5 2024-10-01 08:46:38.614685+00:00 2024-10-11 18:46:38.614685+00:00 --> 2425 candles loaded\n",
      "EUR_USD M5 2024-10-11 18:46:38.614685+00:00 2024-10-22 04:46:38.614685+00:00 --> 1848 candles loaded\n",
      "EUR_USD M5 2024-10-22 04:46:38.614685+00:00 2024-11-01 14:46:38.614685+00:00 --> 2425 candles loaded\n",
      "EUR_USD M5 2024-11-01 14:46:38.614685+00:00 2024-11-12 00:46:38.614685+00:00 --> 1837 candles loaded\n",
      "EUR_USD M5 2024-11-12 00:46:38.614685+00:00 2024-11-22 10:46:38.614685+00:00 --> 2425 candles loaded\n",
      "EUR_USD M5 2024-11-22 10:46:38.614685+00:00 2024-12-02 20:46:38.614685+00:00 --> 1848 candles loaded\n",
      "EUR_USD M5 2024-12-02 20:46:38.614685+00:00 2024-12-13 06:46:38.614685+00:00 --> 2425 candles loaded\n",
      "EUR_USD M5 2024-12-13 06:46:38.614685+00:00 2024-12-23 16:46:38.614685+00:00 --> 1849 candles loaded\n",
      "EUR_USD M5 2024-12-23 16:46:38.614685+00:00 2025-01-03 02:46:38.614685+00:00 --> 1848 candles loaded\n",
      "EUR_USD M5 2025-01-03 02:46:38.614685+00:00 2025-01-13 12:46:38.614685+00:00 --> 1849 candles loaded\n",
      "EUR_USD M5 2025-01-13 12:46:38.614685+00:00 2025-01-23 22:46:38.614685+00:00 --> 2425 candles loaded\n",
      "EUR_USD M5 2025-01-23 22:46:38.614685+00:00 2025-01-25 18:46:38.614217+00:00 --> 279 candles loaded\n",
      "*** *** EUR_USD M5 2023-01-25 18:45:00+00:00 2025-01-24 21:55:00+00:00 --> 149167 candles ***\n"
     ]
    }
   ],
   "source": [
    "import warnings\n",
    "warnings.filterwarnings(\"ignore\")\n",
    "\n",
    "from api.oanda_api import OandaApi\n",
    "from infrastructure.instrument_collection import instrumentCollection\n",
    "from infrastructure.collect_data import run_collection\n",
    "import pandas as pd\n",
    "\n",
    "# Initializing our session\n",
    "api = OandaApi()\n",
    "\n",
    "# Downloading the instruments available and storing it in a jason file\n",
    "instruments = api.get_account_instruments()\n",
    "instrumentCollection.CreateFile(instruments, './data')\n",
    "\n",
    "instrumentCollection.LoadInstruments('./data')\n",
    "\n",
    "# Downloading OHLC prices, 2     years worth 5 minute candles (this might take a while)\n",
    "run_collection(instrumentCollection, api, currencies=[\"EUR\", \"USD\"], years=2)\n",
    "\n",
    "df = pd.read_pickle(\"./data/EUR_USD_M5.pkl\")"
   ]
  },
  {
   "cell_type": "markdown",
   "metadata": {},
   "source": [
    "# Preview Of Our DataFrame"
   ]
  },
  {
   "cell_type": "code",
   "execution_count": 2,
   "metadata": {},
   "outputs": [
    {
     "data": {
      "text/html": [
       "<div>\n",
       "<style scoped>\n",
       "    .dataframe tbody tr th:only-of-type {\n",
       "        vertical-align: middle;\n",
       "    }\n",
       "\n",
       "    .dataframe tbody tr th {\n",
       "        vertical-align: top;\n",
       "    }\n",
       "\n",
       "    .dataframe thead th {\n",
       "        text-align: right;\n",
       "    }\n",
       "</style>\n",
       "<table border=\"1\" class=\"dataframe\">\n",
       "  <thead>\n",
       "    <tr style=\"text-align: right;\">\n",
       "      <th></th>\n",
       "      <th>time</th>\n",
       "      <th>volume</th>\n",
       "      <th>mid_o</th>\n",
       "      <th>mid_h</th>\n",
       "      <th>mid_l</th>\n",
       "      <th>mid_c</th>\n",
       "      <th>bid_o</th>\n",
       "      <th>bid_h</th>\n",
       "      <th>bid_l</th>\n",
       "      <th>bid_c</th>\n",
       "      <th>ask_o</th>\n",
       "      <th>ask_h</th>\n",
       "      <th>ask_l</th>\n",
       "      <th>ask_c</th>\n",
       "    </tr>\n",
       "  </thead>\n",
       "  <tbody>\n",
       "    <tr>\n",
       "      <th>0</th>\n",
       "      <td>2023-01-25 18:45:00+00:00</td>\n",
       "      <td>245</td>\n",
       "      <td>1.09116</td>\n",
       "      <td>1.09147</td>\n",
       "      <td>1.09112</td>\n",
       "      <td>1.09142</td>\n",
       "      <td>1.09110</td>\n",
       "      <td>1.09140</td>\n",
       "      <td>1.09105</td>\n",
       "      <td>1.09135</td>\n",
       "      <td>1.09123</td>\n",
       "      <td>1.09155</td>\n",
       "      <td>1.09120</td>\n",
       "      <td>1.09148</td>\n",
       "    </tr>\n",
       "    <tr>\n",
       "      <th>1</th>\n",
       "      <td>2023-01-25 18:50:00+00:00</td>\n",
       "      <td>309</td>\n",
       "      <td>1.09142</td>\n",
       "      <td>1.09157</td>\n",
       "      <td>1.09102</td>\n",
       "      <td>1.09102</td>\n",
       "      <td>1.09135</td>\n",
       "      <td>1.09150</td>\n",
       "      <td>1.09094</td>\n",
       "      <td>1.09094</td>\n",
       "      <td>1.09149</td>\n",
       "      <td>1.09164</td>\n",
       "      <td>1.09108</td>\n",
       "      <td>1.09109</td>\n",
       "    </tr>\n",
       "    <tr>\n",
       "      <th>2</th>\n",
       "      <td>2023-01-25 18:55:00+00:00</td>\n",
       "      <td>181</td>\n",
       "      <td>1.09101</td>\n",
       "      <td>1.09110</td>\n",
       "      <td>1.09084</td>\n",
       "      <td>1.09092</td>\n",
       "      <td>1.09093</td>\n",
       "      <td>1.09102</td>\n",
       "      <td>1.09076</td>\n",
       "      <td>1.09085</td>\n",
       "      <td>1.09109</td>\n",
       "      <td>1.09117</td>\n",
       "      <td>1.09091</td>\n",
       "      <td>1.09098</td>\n",
       "    </tr>\n",
       "    <tr>\n",
       "      <th>3</th>\n",
       "      <td>2023-01-25 19:00:00+00:00</td>\n",
       "      <td>317</td>\n",
       "      <td>1.09093</td>\n",
       "      <td>1.09101</td>\n",
       "      <td>1.09068</td>\n",
       "      <td>1.09098</td>\n",
       "      <td>1.09086</td>\n",
       "      <td>1.09094</td>\n",
       "      <td>1.09061</td>\n",
       "      <td>1.09091</td>\n",
       "      <td>1.09100</td>\n",
       "      <td>1.09108</td>\n",
       "      <td>1.09075</td>\n",
       "      <td>1.09106</td>\n",
       "    </tr>\n",
       "    <tr>\n",
       "      <th>4</th>\n",
       "      <td>2023-01-25 19:05:00+00:00</td>\n",
       "      <td>359</td>\n",
       "      <td>1.09098</td>\n",
       "      <td>1.09108</td>\n",
       "      <td>1.09088</td>\n",
       "      <td>1.09092</td>\n",
       "      <td>1.09092</td>\n",
       "      <td>1.09101</td>\n",
       "      <td>1.09080</td>\n",
       "      <td>1.09085</td>\n",
       "      <td>1.09105</td>\n",
       "      <td>1.09116</td>\n",
       "      <td>1.09094</td>\n",
       "      <td>1.09099</td>\n",
       "    </tr>\n",
       "  </tbody>\n",
       "</table>\n",
       "</div>"
      ],
      "text/plain": [
       "                       time  volume    mid_o    mid_h    mid_l    mid_c  \\\n",
       "0 2023-01-25 18:45:00+00:00     245  1.09116  1.09147  1.09112  1.09142   \n",
       "1 2023-01-25 18:50:00+00:00     309  1.09142  1.09157  1.09102  1.09102   \n",
       "2 2023-01-25 18:55:00+00:00     181  1.09101  1.09110  1.09084  1.09092   \n",
       "3 2023-01-25 19:00:00+00:00     317  1.09093  1.09101  1.09068  1.09098   \n",
       "4 2023-01-25 19:05:00+00:00     359  1.09098  1.09108  1.09088  1.09092   \n",
       "\n",
       "     bid_o    bid_h    bid_l    bid_c    ask_o    ask_h    ask_l    ask_c  \n",
       "0  1.09110  1.09140  1.09105  1.09135  1.09123  1.09155  1.09120  1.09148  \n",
       "1  1.09135  1.09150  1.09094  1.09094  1.09149  1.09164  1.09108  1.09109  \n",
       "2  1.09093  1.09102  1.09076  1.09085  1.09109  1.09117  1.09091  1.09098  \n",
       "3  1.09086  1.09094  1.09061  1.09091  1.09100  1.09108  1.09075  1.09106  \n",
       "4  1.09092  1.09101  1.09080  1.09085  1.09105  1.09116  1.09094  1.09099  "
      ]
     },
     "execution_count": 2,
     "metadata": {},
     "output_type": "execute_result"
    }
   ],
   "source": [
    "df.head()"
   ]
  },
  {
   "cell_type": "markdown",
   "metadata": {},
   "source": [
    "# Dataset Structure and Overview"
   ]
  },
  {
   "cell_type": "code",
   "execution_count": 3,
   "metadata": {},
   "outputs": [
    {
     "name": "stdout",
     "output_type": "stream",
     "text": [
      "<class 'pandas.core.frame.DataFrame'>\n",
      "RangeIndex: 149167 entries, 0 to 149166\n",
      "Data columns (total 14 columns):\n",
      " #   Column  Non-Null Count   Dtype                  \n",
      "---  ------  --------------   -----                  \n",
      " 0   time    149167 non-null  datetime64[ns, tzutc()]\n",
      " 1   volume  149167 non-null  int64                  \n",
      " 2   mid_o   149167 non-null  float64                \n",
      " 3   mid_h   149167 non-null  float64                \n",
      " 4   mid_l   149167 non-null  float64                \n",
      " 5   mid_c   149167 non-null  float64                \n",
      " 6   bid_o   149167 non-null  float64                \n",
      " 7   bid_h   149167 non-null  float64                \n",
      " 8   bid_l   149167 non-null  float64                \n",
      " 9   bid_c   149167 non-null  float64                \n",
      " 10  ask_o   149167 non-null  float64                \n",
      " 11  ask_h   149167 non-null  float64                \n",
      " 12  ask_l   149167 non-null  float64                \n",
      " 13  ask_c   149167 non-null  float64                \n",
      "dtypes: datetime64[ns, tzutc()](1), float64(12), int64(1)\n",
      "memory usage: 15.9 MB\n"
     ]
    }
   ],
   "source": [
    "df.info()"
   ]
  },
  {
   "cell_type": "markdown",
   "metadata": {},
   "source": [
    "# Statistical Summary of the Dataset"
   ]
  },
  {
   "cell_type": "code",
   "execution_count": 4,
   "metadata": {},
   "outputs": [
    {
     "data": {
      "text/html": [
       "<div>\n",
       "<style scoped>\n",
       "    .dataframe tbody tr th:only-of-type {\n",
       "        vertical-align: middle;\n",
       "    }\n",
       "\n",
       "    .dataframe tbody tr th {\n",
       "        vertical-align: top;\n",
       "    }\n",
       "\n",
       "    .dataframe thead th {\n",
       "        text-align: right;\n",
       "    }\n",
       "</style>\n",
       "<table border=\"1\" class=\"dataframe\">\n",
       "  <thead>\n",
       "    <tr style=\"text-align: right;\">\n",
       "      <th></th>\n",
       "      <th>volume</th>\n",
       "      <th>mid_o</th>\n",
       "      <th>mid_h</th>\n",
       "      <th>mid_l</th>\n",
       "      <th>mid_c</th>\n",
       "      <th>bid_o</th>\n",
       "      <th>bid_h</th>\n",
       "      <th>bid_l</th>\n",
       "      <th>bid_c</th>\n",
       "      <th>ask_o</th>\n",
       "      <th>ask_h</th>\n",
       "      <th>ask_l</th>\n",
       "      <th>ask_c</th>\n",
       "    </tr>\n",
       "  </thead>\n",
       "  <tbody>\n",
       "    <tr>\n",
       "      <th>count</th>\n",
       "      <td>149167.000000</td>\n",
       "      <td>149167.000000</td>\n",
       "      <td>149167.000000</td>\n",
       "      <td>149167.000000</td>\n",
       "      <td>149167.000000</td>\n",
       "      <td>149167.000000</td>\n",
       "      <td>149167.000000</td>\n",
       "      <td>149167.000000</td>\n",
       "      <td>149167.000000</td>\n",
       "      <td>149167.000000</td>\n",
       "      <td>149167.000000</td>\n",
       "      <td>149167.000000</td>\n",
       "      <td>149167.000000</td>\n",
       "    </tr>\n",
       "    <tr>\n",
       "      <th>mean</th>\n",
       "      <td>334.968760</td>\n",
       "      <td>1.080475</td>\n",
       "      <td>1.080638</td>\n",
       "      <td>1.080311</td>\n",
       "      <td>1.080475</td>\n",
       "      <td>1.080394</td>\n",
       "      <td>1.080558</td>\n",
       "      <td>1.080228</td>\n",
       "      <td>1.080394</td>\n",
       "      <td>1.080556</td>\n",
       "      <td>1.080720</td>\n",
       "      <td>1.080391</td>\n",
       "      <td>1.080556</td>\n",
       "    </tr>\n",
       "    <tr>\n",
       "      <th>std</th>\n",
       "      <td>307.151709</td>\n",
       "      <td>0.018964</td>\n",
       "      <td>0.018952</td>\n",
       "      <td>0.018975</td>\n",
       "      <td>0.018964</td>\n",
       "      <td>0.018964</td>\n",
       "      <td>0.018953</td>\n",
       "      <td>0.018975</td>\n",
       "      <td>0.018964</td>\n",
       "      <td>0.018964</td>\n",
       "      <td>0.018952</td>\n",
       "      <td>0.018975</td>\n",
       "      <td>0.018964</td>\n",
       "    </tr>\n",
       "    <tr>\n",
       "      <th>min</th>\n",
       "      <td>1.000000</td>\n",
       "      <td>1.018430</td>\n",
       "      <td>1.019080</td>\n",
       "      <td>1.017790</td>\n",
       "      <td>1.018440</td>\n",
       "      <td>1.018360</td>\n",
       "      <td>1.019010</td>\n",
       "      <td>1.017710</td>\n",
       "      <td>1.018360</td>\n",
       "      <td>1.018500</td>\n",
       "      <td>1.019160</td>\n",
       "      <td>1.017860</td>\n",
       "      <td>1.018520</td>\n",
       "    </tr>\n",
       "    <tr>\n",
       "      <th>25%</th>\n",
       "      <td>151.000000</td>\n",
       "      <td>1.069840</td>\n",
       "      <td>1.070010</td>\n",
       "      <td>1.069700</td>\n",
       "      <td>1.069840</td>\n",
       "      <td>1.069760</td>\n",
       "      <td>1.069930</td>\n",
       "      <td>1.069610</td>\n",
       "      <td>1.069760</td>\n",
       "      <td>1.069930</td>\n",
       "      <td>1.070100</td>\n",
       "      <td>1.069770</td>\n",
       "      <td>1.069930</td>\n",
       "    </tr>\n",
       "    <tr>\n",
       "      <th>50%</th>\n",
       "      <td>263.000000</td>\n",
       "      <td>1.082870</td>\n",
       "      <td>1.083020</td>\n",
       "      <td>1.082730</td>\n",
       "      <td>1.082880</td>\n",
       "      <td>1.082800</td>\n",
       "      <td>1.082940</td>\n",
       "      <td>1.082650</td>\n",
       "      <td>1.082800</td>\n",
       "      <td>1.082950</td>\n",
       "      <td>1.083090</td>\n",
       "      <td>1.082810</td>\n",
       "      <td>1.082950</td>\n",
       "    </tr>\n",
       "    <tr>\n",
       "      <th>75%</th>\n",
       "      <td>421.000000</td>\n",
       "      <td>1.092660</td>\n",
       "      <td>1.092800</td>\n",
       "      <td>1.092510</td>\n",
       "      <td>1.092660</td>\n",
       "      <td>1.092580</td>\n",
       "      <td>1.092720</td>\n",
       "      <td>1.092430</td>\n",
       "      <td>1.092580</td>\n",
       "      <td>1.092740</td>\n",
       "      <td>1.092880</td>\n",
       "      <td>1.092590</td>\n",
       "      <td>1.092740</td>\n",
       "    </tr>\n",
       "    <tr>\n",
       "      <th>max</th>\n",
       "      <td>10707.000000</td>\n",
       "      <td>1.127560</td>\n",
       "      <td>1.127570</td>\n",
       "      <td>1.126750</td>\n",
       "      <td>1.127550</td>\n",
       "      <td>1.127480</td>\n",
       "      <td>1.127490</td>\n",
       "      <td>1.126670</td>\n",
       "      <td>1.127470</td>\n",
       "      <td>1.127650</td>\n",
       "      <td>1.127650</td>\n",
       "      <td>1.126830</td>\n",
       "      <td>1.127630</td>\n",
       "    </tr>\n",
       "  </tbody>\n",
       "</table>\n",
       "</div>"
      ],
      "text/plain": [
       "              volume          mid_o          mid_h          mid_l  \\\n",
       "count  149167.000000  149167.000000  149167.000000  149167.000000   \n",
       "mean      334.968760       1.080475       1.080638       1.080311   \n",
       "std       307.151709       0.018964       0.018952       0.018975   \n",
       "min         1.000000       1.018430       1.019080       1.017790   \n",
       "25%       151.000000       1.069840       1.070010       1.069700   \n",
       "50%       263.000000       1.082870       1.083020       1.082730   \n",
       "75%       421.000000       1.092660       1.092800       1.092510   \n",
       "max     10707.000000       1.127560       1.127570       1.126750   \n",
       "\n",
       "               mid_c          bid_o          bid_h          bid_l  \\\n",
       "count  149167.000000  149167.000000  149167.000000  149167.000000   \n",
       "mean        1.080475       1.080394       1.080558       1.080228   \n",
       "std         0.018964       0.018964       0.018953       0.018975   \n",
       "min         1.018440       1.018360       1.019010       1.017710   \n",
       "25%         1.069840       1.069760       1.069930       1.069610   \n",
       "50%         1.082880       1.082800       1.082940       1.082650   \n",
       "75%         1.092660       1.092580       1.092720       1.092430   \n",
       "max         1.127550       1.127480       1.127490       1.126670   \n",
       "\n",
       "               bid_c          ask_o          ask_h          ask_l  \\\n",
       "count  149167.000000  149167.000000  149167.000000  149167.000000   \n",
       "mean        1.080394       1.080556       1.080720       1.080391   \n",
       "std         0.018964       0.018964       0.018952       0.018975   \n",
       "min         1.018360       1.018500       1.019160       1.017860   \n",
       "25%         1.069760       1.069930       1.070100       1.069770   \n",
       "50%         1.082800       1.082950       1.083090       1.082810   \n",
       "75%         1.092580       1.092740       1.092880       1.092590   \n",
       "max         1.127470       1.127650       1.127650       1.126830   \n",
       "\n",
       "               ask_c  \n",
       "count  149167.000000  \n",
       "mean        1.080556  \n",
       "std         0.018964  \n",
       "min         1.018520  \n",
       "25%         1.069930  \n",
       "50%         1.082950  \n",
       "75%         1.092740  \n",
       "max         1.127630  "
      ]
     },
     "execution_count": 4,
     "metadata": {},
     "output_type": "execute_result"
    }
   ],
   "source": [
    "df.describe()"
   ]
  },
  {
   "cell_type": "markdown",
   "metadata": {},
   "source": [
    "# Transforming Data from Time Bars into Dollar Value Bars"
   ]
  },
  {
   "cell_type": "code",
   "execution_count": 5,
   "metadata": {},
   "outputs": [],
   "source": [
    "from technicals.dollar_value_bars import generate_dollar_bars\n",
    "\n",
    "df = generate_dollar_bars(df, 360)"
   ]
  },
  {
   "cell_type": "markdown",
   "metadata": {},
   "source": [
    "# Feature Engineering: Adding Technical Indicators"
   ]
  },
  {
   "cell_type": "code",
   "execution_count": 6,
   "metadata": {},
   "outputs": [],
   "source": [
    "from models.add_indicators import apply_indicators\n",
    "\n",
    "df = apply_indicators(df)"
   ]
  },
  {
   "cell_type": "markdown",
   "metadata": {},
   "source": [
    "# Feature Engineering: Adding Technical Patterns"
   ]
  },
  {
   "cell_type": "code",
   "execution_count": 7,
   "metadata": {},
   "outputs": [],
   "source": [
    "from technicals.patterns import apply_candle_props\n",
    "\n",
    "df = apply_candle_props(df)"
   ]
  },
  {
   "cell_type": "markdown",
   "metadata": {},
   "source": [
    "# Adding Labels for Model Training using the Triple Barrier Method"
   ]
  },
  {
   "cell_type": "code",
   "execution_count": 8,
   "metadata": {},
   "outputs": [],
   "source": [
    "from technicals.labeling import tripple_barrier_labeling\n",
    "\n",
    "df = tripple_barrier_labeling(df, win=4, loss=2).dropna()"
   ]
  },
  {
   "cell_type": "markdown",
   "metadata": {},
   "source": [
    "# Overview of Dataset Features"
   ]
  },
  {
   "cell_type": "code",
   "execution_count": 9,
   "metadata": {},
   "outputs": [
    {
     "data": {
      "text/plain": [
       "Index(['time', 'volume', 'mid_o', 'mid_h', 'mid_l', 'mid_c', 'bid_o', 'bid_h',\n",
       "       'bid_l', 'bid_c', 'ask_o', 'ask_h', 'ask_l', 'ask_c', 'spread', 'hour',\n",
       "       'day_of_week', 'month', 'minute', 'BB_MA10', 'BB_UP10', 'BB_LW10',\n",
       "       'BB_MA30', 'BB_UP30', 'BB_LW30', 'BB_MA50', 'BB_UP50', 'BB_LW50',\n",
       "       'ATR_7', 'ATR_14', 'ATR_40', 'EMA20', 'KeUp20_10', 'KeLo20_10', 'EMA50',\n",
       "       'KeUp50_50', 'KeLo50_50', 'EMA200', 'KeUp200_50', 'KeLo200_50', 'RSI_7',\n",
       "       'RSI_14', 'RSI_50', 'MACD26_12', 'SIGNAL26_12', 'HIST26_12',\n",
       "       'MACD52_24', 'SIGNAL52_24', 'HIST52_24', 'direction', 'body_size',\n",
       "       'body_perc', 'body_lower', 'body_upper', 'body_bottom_perc',\n",
       "       'body_top_perc', 'mid_point', 'low_change', 'high_change',\n",
       "       'body_size_change', 'body_size_prev', 'direction_prev',\n",
       "       'direction_prev_2', 'body_perc_prev', 'body_perc_prev_2',\n",
       "       'mid_point_prev_2', 'Label', 'trade_duration'],\n",
       "      dtype='object')"
      ]
     },
     "execution_count": 9,
     "metadata": {},
     "output_type": "execute_result"
    }
   ],
   "source": [
    "df.columns"
   ]
  },
  {
   "cell_type": "markdown",
   "metadata": {},
   "source": [
    "# Applying Stationarization to Selected Columns"
   ]
  },
  {
   "cell_type": "code",
   "execution_count": 10,
   "metadata": {},
   "outputs": [],
   "source": [
    "from technicals.stationarize_data import stationarize_data\n",
    "\n",
    "# Columns that we want to stationarize\n",
    "stationary_cols = ['volume', 'mid_o', 'mid_h', 'mid_l', 'mid_c', 'bid_o', 'bid_h',\n",
    "       'bid_l', 'bid_c', 'ask_o', 'ask_h', 'ask_l', 'ask_c', 'BB_MA10', 'BB_UP10', 'BB_LW10',\n",
    "       'BB_MA30', 'BB_UP30', 'BB_LW30', 'BB_MA50', 'BB_UP50', 'BB_LW50',\n",
    "       'ATR_7', 'ATR_14', 'ATR_40', 'EMA20', 'KeUp20_10', 'KeLo20_10', 'EMA50',\n",
    "       'KeUp50_50', 'KeLo50_50', 'EMA200', 'KeUp200_50', 'KeLo200_50', 'RSI_7',\n",
    "       'RSI_14', 'RSI_50', 'MACD26_12', 'SIGNAL26_12', 'HIST26_12',\n",
    "       'MACD52_24', 'SIGNAL52_24', 'HIST52_24']\n",
    "\n",
    "df = stationarize_data(df, stationary_cols).dropna()"
   ]
  },
  {
   "cell_type": "markdown",
   "metadata": {},
   "source": [
    "# Selecting Features for Prediction"
   ]
  },
  {
   "cell_type": "code",
   "execution_count": 11,
   "metadata": {},
   "outputs": [],
   "source": [
    "predictors = ['volume', 'mid_o', 'mid_h', 'mid_l', 'mid_c', 'bid_o', 'bid_h',\n",
    "       'bid_l', 'bid_c', 'ask_o', 'ask_h', 'ask_l', 'ask_c', 'spread', 'hour',\n",
    "       'day_of_week', 'month', 'minute', 'BB_MA10', 'BB_UP10', 'BB_LW10',\n",
    "       'BB_MA30', 'BB_UP30', 'BB_LW30', 'BB_MA50', 'BB_UP50', 'BB_LW50',\n",
    "       'ATR_7', 'ATR_14', 'ATR_40', 'EMA20', 'KeUp20_10', 'KeLo20_10', 'EMA50',\n",
    "       'KeUp50_50', 'KeLo50_50', 'EMA200', 'KeUp200_50', 'KeLo200_50', 'RSI_7',\n",
    "       'RSI_14', 'RSI_50', 'MACD26_12', 'SIGNAL26_12', 'HIST26_12',\n",
    "       'MACD52_24', 'SIGNAL52_24', 'HIST52_24', 'direction', 'body_size',\n",
    "       'body_perc', 'body_lower', 'body_upper', 'body_bottom_perc',\n",
    "       'body_top_perc', 'mid_point', 'low_change', 'high_change',\n",
    "       'body_size_prev', 'direction_prev',\n",
    "       'direction_prev_2', 'body_perc_prev', 'body_perc_prev_2',\n",
    "       'mid_point_prev_2']"
   ]
  },
  {
   "cell_type": "markdown",
   "metadata": {},
   "source": [
    "# Splitting Dataset for Hyperparameter Tuning and Model Evaluation"
   ]
  },
  {
   "cell_type": "code",
   "execution_count": 12,
   "metadata": {},
   "outputs": [],
   "source": [
    "# Will be used for hyperparameter tuning\n",
    "validation_set = df[:30_000].copy()\n",
    "\n",
    "# Will be used in the model evaluation faze\n",
    "test_set = df[30_000:].copy()"
   ]
  },
  {
   "cell_type": "markdown",
   "metadata": {},
   "source": [
    "# Hyperparameter Tuning Using Halving Random Search"
   ]
  },
  {
   "cell_type": "code",
   "execution_count": 13,
   "metadata": {},
   "outputs": [
    {
     "name": "stdout",
     "output_type": "stream",
     "text": [
      "Best Score: 0.45323481116584563\n",
      "Best Params: {'max_depth': 12, 'max_features': 'sqrt', 'min_samples_leaf': 4, 'min_samples_split': 4, 'n_estimators': 224}\n"
     ]
    }
   ],
   "source": [
    "from sklearn.model_selection import TimeSeriesSplit\n",
    "from sklearn.ensemble import RandomForestClassifier\n",
    "from sklearn.experimental import enable_halving_search_cv\n",
    "from sklearn.model_selection import HalvingRandomSearchCV\n",
    "from scipy.stats import randint\n",
    "\n",
    "\n",
    "param_distributions = {\n",
    "    'n_estimators': randint(100, 500),         \n",
    "    'max_depth': randint(5, 20),                \n",
    "    'min_samples_split': randint(2, 11),\n",
    "    'min_samples_leaf': randint(1, 5),\n",
    "    'max_features': ['sqrt', 'log2']\n",
    "}\n",
    "\n",
    "base_rf = RandomForestClassifier(random_state=42)\n",
    "tscv = TimeSeriesSplit(n_splits=5)  \n",
    "\n",
    "halving_search = HalvingRandomSearchCV(\n",
    "    estimator=base_rf,param_distributions=param_distributions,factor=3,\n",
    "    resource='n_samples', max_resources=10_000, scoring='precision', cv=tscv, verbose=0, random_state=42\n",
    ")\n",
    "\n",
    "X = validation_set[predictors]\n",
    "y = validation_set['Label']\n",
    "halving_search.fit(X, y)\n",
    "\n",
    "print(\"Best Score:\", halving_search.best_score_)\n",
    "print(\"Best Params:\", halving_search.best_params_)\n",
    "best_rf = halving_search.best_estimator_"
   ]
  },
  {
   "cell_type": "markdown",
   "metadata": {},
   "source": [
    "# Evaluating the Optimized Random Forest Model"
   ]
  },
  {
   "cell_type": "code",
   "execution_count": 14,
   "metadata": {},
   "outputs": [
    {
     "name": "stdout",
     "output_type": "stream",
     "text": [
      "17.25% there...\n",
      "34.50% there...\n",
      "51.75% there...\n",
      "69.00% there...\n",
      "86.25% there...\n"
     ]
    }
   ],
   "source": [
    "from sklearn.ensemble import RandomForestClassifier\n",
    "from technicals.backtesting import model_evaluation\n",
    "\n",
    "test_set.dropna(inplace=True)\n",
    "rf_predictions = model_evaluation(test_set, best_rf, predictors, start=10_000, step=10_000, memory='off')"
   ]
  },
  {
   "cell_type": "markdown",
   "metadata": {},
   "source": [
    "# Model Precision VS Benchmark Performance"
   ]
  },
  {
   "cell_type": "code",
   "execution_count": 15,
   "metadata": {},
   "outputs": [
    {
     "name": "stdout",
     "output_type": "stream",
     "text": [
      "Precision: 35.041 %\n",
      "BenchMark: 34.098 %\n"
     ]
    },
    {
     "data": {
      "text/plain": [
       "Label  Predictions\n",
       "0      0.0            26705\n",
       "1      0.0            13709\n",
       "0      1.0             4907\n",
       "1      1.0             2647\n",
       "Name: count, dtype: int64"
      ]
     },
     "execution_count": 15,
     "metadata": {},
     "output_type": "execute_result"
    }
   ],
   "source": [
    "loosing_trades = len(rf_predictions[(rf_predictions['Predictions']==1) & (rf_predictions['Label'] == 0)])\n",
    "winning_trades = len(rf_predictions[(rf_predictions['Predictions']==1) & (rf_predictions['Label'] == 1)])\n",
    "\n",
    "precision = (winning_trades / (winning_trades + loosing_trades)) * 100\n",
    "benchmark = (len(rf_predictions[rf_predictions['Label'] == 1]) / (len(rf_predictions))) * 100\n",
    "\n",
    "print(f\"Precision: {precision:.3f} %\")\n",
    "print(f\"BenchMark: {benchmark:.3f} %\")\n",
    "rf_predictions.value_counts()"
   ]
  },
  {
   "cell_type": "markdown",
   "metadata": {},
   "source": [
    "# "
   ]
  },
  {
   "cell_type": "markdown",
   "metadata": {},
   "source": [
    "# Saving the model"
   ]
  },
  {
   "cell_type": "code",
   "execution_count": 19,
   "metadata": {},
   "outputs": [
    {
     "data": {
      "text/plain": [
       "['ML_models/random_forest.pkl']"
      ]
     },
     "execution_count": 19,
     "metadata": {},
     "output_type": "execute_result"
    }
   ],
   "source": [
    "from joblib import dump\n",
    "\n",
    "# Save the model\n",
    "dump(best_rf, 'ML_models/random_forest.pkl')"
   ]
  },
  {
   "cell_type": "markdown",
   "metadata": {},
   "source": [
    "## Running the Live Trading Bot with our ML Model"
   ]
  },
  {
   "cell_type": "code",
   "execution_count": 20,
   "metadata": {},
   "outputs": [
    {
     "name": "stdout",
     "output_type": "stream",
     "text": [
      "Granularity: M1\n",
      "EUR_USD: {'pair': 'EUR_USD', 'dollar_threshold': 360, 'model': 'ML_models/random_forest.pkl', 'reward': 4, 'risk': 2, 'probability': 0.6, 'predictors': [['volume', 'mid_o', 'mid_h', 'mid_l', 'mid_c', 'bid_o', 'bid_h', 'bid_l', 'bid_c', 'ask_o', 'ask_h', 'ask_l', 'ask_c', 'spread', 'hour', 'day_of_week', 'month', 'minute', 'BB_MA10', 'BB_UP10', 'BB_LW10', 'BB_MA30', 'BB_UP30', 'BB_LW30', 'BB_MA50', 'BB_UP50', 'BB_LW50', 'ATR_7', 'ATR_14', 'ATR_40', 'EMA20', 'KeUp20_10', 'KeLo20_10', 'EMA50', 'KeUp50_50', 'KeLo50_50', 'EMA200', 'KeUp200_50', 'KeLo200_50', 'RSI_7', 'RSI_14', 'RSI_50', 'MACD26_12', 'SIGNAL26_12', 'HIST26_12', 'MACD52_24', 'SIGNAL52_24', 'HIST52_24', 'direction', 'body_size', 'body_perc', 'body_lower', 'body_upper', 'body_bottom_perc', 'body_top_perc', 'mid_point', 'low_change', 'high_change', 'body_size_prev', 'direction_prev', 'direction_prev_2', 'body_perc_prev', 'body_perc_prev_2', 'mid_point_prev_2']]}\n",
      "dict_keys(['EUR_USD'])\n",
      "PriceProcessor: 2025-01-25 19:17:00+00:00 2025-01-25 19:18:12.413823+00:00\n",
      "KeyboardInterrupt\n"
     ]
    }
   ],
   "source": [
    "from infrastructure.instrument_collection import instrumentCollection\n",
    "from stream_bot.stream_bot import run_bot\n",
    "\n",
    "instrumentCollection.LoadInstruments(\"./data\")\n",
    "run_bot()"
   ]
  }
 ],
 "metadata": {
  "kernelspec": {
   "display_name": ".venv",
   "language": "python",
   "name": "python3"
  },
  "language_info": {
   "codemirror_mode": {
    "name": "ipython",
    "version": 3
   },
   "file_extension": ".py",
   "mimetype": "text/x-python",
   "name": "python",
   "nbconvert_exporter": "python",
   "pygments_lexer": "ipython3",
   "version": "3.12.6"
  }
 },
 "nbformat": 4,
 "nbformat_minor": 2
}
